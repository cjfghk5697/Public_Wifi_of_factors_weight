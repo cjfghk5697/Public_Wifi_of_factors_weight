{
 "metadata": {
  "language_info": {
   "codemirror_mode": {
    "name": "ipython",
    "version": 3
   },
   "file_extension": ".py",
   "mimetype": "text/x-python",
   "name": "python",
   "nbconvert_exporter": "python",
   "pygments_lexer": "ipython3",
   "version": "3.6.5"
  },
  "orig_nbformat": 2,
  "kernelspec": {
   "name": "python365jvsc74a57bd075967ae5cdf1fdb666d6a5ad859c75e2694f14855777ae3b515459b8e7ffb050",
   "display_name": "Python 3.6.5 64-bit ('base': conda)"
  }
 },
 "nbformat": 4,
 "nbformat_minor": 2,
 "cells": [
  {
   "cell_type": "code",
   "execution_count": null,
   "metadata": {},
   "outputs": [],
   "source": [
    "import pandas as pd\n",
    "import pandas_profiling\n",
    "\n",
    "# 레포트 생성 --> html 파일로 저장하기  \n",
    "## 한글이 깨지시는 분은 제일 아래 코드로 실행해주세요\n",
    "raw = pd.read_csv('https://raw.githubusercontent.com/cjfghk5697/Public_Wifi_of_factors_weight/main/csv/publicwifi.csv')\n",
    "report = raw.profile_report()\n",
    "report.to_file('report.html')"
   ]
  },
  {
   "cell_type": "code",
   "execution_count": null,
   "metadata": {},
   "outputs": [],
   "source": []
  }
 ]
}