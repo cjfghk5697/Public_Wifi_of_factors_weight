{
 "metadata": {
  "language_info": {
   "codemirror_mode": {
    "name": "ipython",
    "version": 3
   },
   "file_extension": ".py",
   "mimetype": "text/x-python",
   "name": "python",
   "nbconvert_exporter": "python",
   "pygments_lexer": "ipython3",
   "version": 3
  },
  "orig_nbformat": 2
 },
 "nbformat": 4,
 "nbformat_minor": 2,
 "cells": [
  {
   "cell_type": "code",
   "execution_count": null,
   "metadata": {},
   "outputs": [],
   "source": [
    "import numpy as np\n",
    "import pandas as pd \n",
    "\n",
    "df=pd.read_csv\n",
    "x_train = np.array([1., 2., 3., 4., 5., 6.])\n",
    "y_train = np.array([9., 16., 23., 30., 37., 44.])\n",
    "\n",
    "W = 0.0\n",
    "b = 0.0\n",
    "\n",
    "n_data = len(x_train)\n",
    "\n",
    "epochs = 5000\n",
    "learning_rate = 0.01\n",
    "\n",
    "for i in range(epochs):\n",
    "    hypothesis = x_train * W + b\n",
    "    cost = np.sum((hypothesis - y_train) ** 2) / n_data\n",
    "    gradient_w = np.sum((W * x_train - y_train + b) * 2 * x_train) / n_data\n",
    "    gradient_b = np.sum((W * x_train - y_train + b) * 2) / n_data\n",
    "\n",
    "    W -= learning_rate * gradient_w\n",
    "    b -= learning_rate * gradient_b\n",
    "\n",
    "    if i % 100 == 0:\n",
    "        print('Epoch ({:10d}/{:10d}) cost: {:10f}, W: {:10f}, b:{:10f}'.format(i, epochs, cost, W, b))\n",
    "\n",
    "print('W: {:10f}'.format(W))\n",
    "print('b: {:10f}'.format(b))\n",
    "print('result : ')\n",
    "print(x_train * W + b)"
   ]
  }
 ]
}